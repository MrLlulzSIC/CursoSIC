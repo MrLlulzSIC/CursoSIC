{
  "nbformat": 4,
  "nbformat_minor": 0,
  "metadata": {
    "colab": {
      "provenance": [],
      "authorship_tag": "ABX9TyPTvxIYkX1T1w1sLDAKirB1",
      "include_colab_link": true
    },
    "kernelspec": {
      "name": "python3",
      "display_name": "Python 3"
    },
    "language_info": {
      "name": "python"
    }
  },
  "cells": [
    {
      "cell_type": "markdown",
      "metadata": {
        "id": "view-in-github",
        "colab_type": "text"
      },
      "source": [
        "<a href=\"https://colab.research.google.com/github/MrLlulzSIC/CursoSIC/blob/main/SIC_2_y_3.ipynb\" target=\"_parent\"><img src=\"https://colab.research.google.com/assets/colab-badge.svg\" alt=\"Open In Colab\"/></a>"
      ]
    },
    {
      "cell_type": "markdown",
      "source": [
        "## Ejemplo suma"
      ],
      "metadata": {
        "id": "XUpR0juWZ8WA"
      }
    },
    {
      "cell_type": "code",
      "execution_count": null,
      "metadata": {
        "colab": {
          "base_uri": "https://localhost:8080/"
        },
        "id": "AyFBm6dWZo-j",
        "outputId": "bccdf5bc-881c-44cc-b1a1-1d4b499a445e"
      },
      "outputs": [
        {
          "output_type": "execute_result",
          "data": {
            "text/plain": [
              "2"
            ]
          },
          "metadata": {},
          "execution_count": 1
        }
      ],
      "source": [
        "1 + 1"
      ]
    },
    {
      "cell_type": "markdown",
      "source": [
        "# *Uso markdown*\n"
      ],
      "metadata": {
        "id": "7yfZw737cUvI"
      }
    },
    {
      "cell_type": "markdown",
      "source": [
        "## *Example 1*"
      ],
      "metadata": {
        "id": "upS_0R1RdLIY"
      }
    },
    {
      "cell_type": "markdown",
      "source": [
        "# Tittle\n",
        "## Tittle\n",
        "### Tittle\n",
        "#### Tittle\n",
        "##### Tittle\n"
      ],
      "metadata": {
        "id": "is58s8aOc-uY"
      }
    },
    {
      "cell_type": "markdown",
      "source": [
        "## *Example 2*"
      ],
      "metadata": {
        "id": "o2W94LPDdaTm"
      }
    },
    {
      "cell_type": "markdown",
      "source": [
        "> ### Ingenieria civil informatica\n",
        "programcion orientada a objetos, programacion en Java, Html, JavaScript, C, C++, C#, Python, PhP, entre otros lenguajes de programacion unas de las mnejores carreras, donde tu logica es uno de los factores mas importante en el area\n"
      ],
      "metadata": {
        "id": "PiFUAhhJddYd"
      }
    },
    {
      "cell_type": "markdown",
      "source": [
        "![images.jpeg](https://concepto.de/wp-content/uploads/2020/08/Programacion-informatica-scaled-e1724960033513.jpg)"
      ],
      "metadata": {
        "id": "iStJvaCLoQjf"
      }
    }
  ]
}